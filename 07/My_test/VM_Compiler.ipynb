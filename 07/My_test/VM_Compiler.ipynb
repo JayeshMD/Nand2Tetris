{
 "cells": [
  {
   "cell_type": "code",
   "execution_count": 13,
   "id": "954303c5",
   "metadata": {},
   "outputs": [],
   "source": [
    "import os\n",
    "import sys\n",
    "import argparse\n",
    "\n",
    "import numpy as np"
   ]
  },
  {
   "cell_type": "code",
   "execution_count": 30,
   "id": "136abcb2",
   "metadata": {},
   "outputs": [],
   "source": [
    "file =\"Test_add.txt\""
   ]
  },
  {
   "cell_type": "code",
   "execution_count": 31,
   "id": "df297d70",
   "metadata": {},
   "outputs": [],
   "source": [
    "f = open(file,'r')\n",
    "prog=f.readlines()"
   ]
  },
  {
   "cell_type": "code",
   "execution_count": 32,
   "id": "2eadd60a",
   "metadata": {},
   "outputs": [
    {
     "data": {
      "text/plain": [
       "['push constant 3\\n', 'push constant 5\\n', 'add']"
      ]
     },
     "execution_count": 32,
     "metadata": {},
     "output_type": "execute_result"
    }
   ],
   "source": [
    "prog"
   ]
  },
  {
   "cell_type": "code",
   "execution_count": 33,
   "id": "0031093b",
   "metadata": {},
   "outputs": [
    {
     "data": {
      "text/plain": [
       "['push', 'constant', '3']"
      ]
     },
     "execution_count": 33,
     "metadata": {},
     "output_type": "execute_result"
    }
   ],
   "source": [
    "prog[0].split()"
   ]
  },
  {
   "cell_type": "code",
   "execution_count": 36,
   "id": "a118f732",
   "metadata": {},
   "outputs": [],
   "source": [
    "keywords= np.array(['push','pop'])\n",
    "SP = 0"
   ]
  },
  {
   "cell_type": "code",
   "execution_count": 74,
   "id": "cdc3ef5e",
   "metadata": {},
   "outputs": [],
   "source": [
    "def push(arg_inp): \n",
    "    memory_segment = arg_inp[0]\n",
    "    arg = arg_inp[1]\n",
    "    \n",
    "    instruction_set = []\n",
    "    if memory_segment == 'constant':\n",
    "        instruction_set.append('@'+str(arg))\n",
    "        instruction_set.append('D=A')\n",
    "        instruction_set.append('@SP')\n",
    "        instruction_set.append('A=M')\n",
    "        instruction_set.append('M=D')\n",
    "        instruction_set.append('@SP')\n",
    "        instruction_set.append('M=M+1')       \n",
    "    return instruction_set"
   ]
  },
  {
   "cell_type": "code",
   "execution_count": 69,
   "id": "f59c8bcb",
   "metadata": {},
   "outputs": [],
   "source": [
    "def pop(arg_inp): \n",
    "    memory_segment = arg_inp[0]\n",
    "    arg = arg_inp[1]\n",
    "    \n",
    "    instruction_set = []\n",
    "    if memory_segment == 'local':\n",
    "        instruction_set.append('@'+str(arg))\n",
    "        instruction_set.append('D=A')\n",
    "        instruction_set.append('@LCL')\n",
    "        instruction_set.append('A=M')\n",
    "        instruction_set.append('M=D')\n",
    "        instruction_set.append('@SP')\n",
    "        instruction_set.append('M=M+1')       \n",
    "    return instruction_set"
   ]
  },
  {
   "cell_type": "code",
   "execution_count": 70,
   "id": "8b37886a",
   "metadata": {},
   "outputs": [],
   "source": [
    "instruction = prog[0].split()\n",
    "assembly_code+=push(instruction[1],instruction[2])"
   ]
  },
  {
   "cell_type": "code",
   "execution_count": 71,
   "id": "91f6b725",
   "metadata": {},
   "outputs": [
    {
     "data": {
      "text/plain": [
       "['@3', 'D=A', '@SP', 'A=M', 'M=D', '@SP', 'M=M+1']"
      ]
     },
     "execution_count": 71,
     "metadata": {},
     "output_type": "execute_result"
    }
   ],
   "source": [
    "assembly_code"
   ]
  },
  {
   "cell_type": "code",
   "execution_count": 82,
   "id": "3a7b2166",
   "metadata": {},
   "outputs": [
    {
     "name": "stdout",
     "output_type": "stream",
     "text": [
      "@3\n",
      "D=A\n",
      "@SP\n",
      "A=M\n",
      "M=D\n",
      "@SP\n",
      "M=M+1\n"
     ]
    }
   ],
   "source": [
    "textfile = open(\"Test_add.hack\", \"w\")\n",
    "\n",
    "for VM_instruction in prog[0:1]:\n",
    "    instruction   = VM_instruction.split()\n",
    "    assembly_code = globals()[instruction[0]](instruction[1::])\n",
    "    textfile.write('//'+VM_instruction)\n",
    "    for element in assembly_code:\n",
    "        print(element)\n",
    "        textfile.write(element + \"\\n\")\n",
    "textfile.close()"
   ]
  },
  {
   "cell_type": "code",
   "execution_count": null,
   "id": "fdc2de6e",
   "metadata": {},
   "outputs": [],
   "source": []
  }
 ],
 "metadata": {
  "kernelspec": {
   "display_name": "Python 3 (ipykernel)",
   "language": "python",
   "name": "python3"
  },
  "language_info": {
   "codemirror_mode": {
    "name": "ipython",
    "version": 3
   },
   "file_extension": ".py",
   "mimetype": "text/x-python",
   "name": "python",
   "nbconvert_exporter": "python",
   "pygments_lexer": "ipython3",
   "version": "3.9.8"
  }
 },
 "nbformat": 4,
 "nbformat_minor": 5
}
