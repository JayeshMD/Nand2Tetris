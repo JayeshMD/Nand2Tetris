{
 "cells": [
  {
   "cell_type": "code",
   "execution_count": 13,
   "id": "b84e1eb8",
   "metadata": {},
   "outputs": [],
   "source": [
    "import os\n",
    "import sys\n",
    "import argparse\n",
    "\n",
    "import numpy as np"
   ]
  },
  {
   "cell_type": "code",
   "execution_count": 30,
   "id": "013b3715",
   "metadata": {},
   "outputs": [],
   "source": [
    "file =\"Test_add.txt\""
   ]
  },
  {
   "cell_type": "code",
   "execution_count": 31,
   "id": "1f6fd62e",
   "metadata": {},
   "outputs": [],
   "source": [
    "f = open(file,'r')\n",
    "prog=f.readlines()"
   ]
  },
  {
   "cell_type": "code",
   "execution_count": 32,
   "id": "08221523",
   "metadata": {},
   "outputs": [
    {
     "data": {
      "text/plain": [
       "['push constant 3\\n', 'push constant 5\\n', 'add']"
      ]
     },
     "execution_count": 32,
     "metadata": {},
     "output_type": "execute_result"
    }
   ],
   "source": [
    "prog"
   ]
  },
  {
   "cell_type": "code",
   "execution_count": 33,
   "id": "fedb33ab",
   "metadata": {},
   "outputs": [
    {
     "data": {
      "text/plain": [
       "['push', 'constant', '3']"
      ]
     },
     "execution_count": 33,
     "metadata": {},
     "output_type": "execute_result"
    }
   ],
   "source": [
    "prog[0].split()"
   ]
  },
  {
   "cell_type": "code",
   "execution_count": 36,
   "id": "1b11c3b4",
   "metadata": {},
   "outputs": [],
   "source": [
    "keywords= np.array(['push','pop'])\n",
    "SP = 0"
   ]
  },
  {
   "cell_type": "code",
   "execution_count": 35,
   "id": "57331e85",
   "metadata": {},
   "outputs": [
    {
     "data": {
      "text/plain": [
       "array([ True, False])"
      ]
     },
     "execution_count": 35,
     "metadata": {},
     "output_type": "execute_result"
    }
   ],
   "source": [
    "def push(ram, memory_segment, arg):\n",
    "    instruction_set = []\n",
    "    if memory_segment == 'constant'\n",
    "        instruction_set.append('@'+str(arg))\n",
    "        instruction_set.append('D=A')\n",
    "        instruction_set.append('@' + str(ram[SP]))\n",
    "        instruction_set.append('M=D')\n",
    "        instruction_set.append('@',str(SP))\n",
    "        instruction_set.append('M=M+1')   "
   ]
  },
  {
   "cell_type": "code",
   "execution_count": null,
   "id": "a1d5a76f",
   "metadata": {},
   "outputs": [],
   "source": []
  }
 ],
 "metadata": {
  "kernelspec": {
   "display_name": "Python 3 (ipykernel)",
   "language": "python",
   "name": "python3"
  },
  "language_info": {
   "codemirror_mode": {
    "name": "ipython",
    "version": 3
   },
   "file_extension": ".py",
   "mimetype": "text/x-python",
   "name": "python",
   "nbconvert_exporter": "python",
   "pygments_lexer": "ipython3",
   "version": "3.9.8"
  }
 },
 "nbformat": 4,
 "nbformat_minor": 5
}
