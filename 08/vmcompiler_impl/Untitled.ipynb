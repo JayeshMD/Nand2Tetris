{
 "cells": [
  {
   "cell_type": "code",
   "execution_count": 1,
   "id": "c360010e",
   "metadata": {},
   "outputs": [
    {
     "data": {
      "text/plain": [
       "74980"
      ]
     },
     "execution_count": 1,
     "metadata": {},
     "output_type": "execute_result"
    }
   ],
   "source": [
    "37490*2"
   ]
  },
  {
   "cell_type": "code",
   "execution_count": 2,
   "id": "7a354e84",
   "metadata": {},
   "outputs": [
    {
     "data": {
      "text/plain": [
       "6170"
      ]
     },
     "execution_count": 2,
     "metadata": {},
     "output_type": "execute_result"
    }
   ],
   "source": [
    "(14*100+14*75+(90-28)*60)"
   ]
  },
  {
   "cell_type": "code",
   "execution_count": 7,
   "id": "7217d3ef",
   "metadata": {},
   "outputs": [
    {
     "data": {
      "text/plain": [
       "263767.5"
      ]
     },
     "execution_count": 7,
     "metadata": {},
     "output_type": "execute_result"
    }
   ],
   "source": [
    "6170*85.5/2"
   ]
  },
  {
   "cell_type": "code",
   "execution_count": 5,
   "id": "b56c66fe",
   "metadata": {},
   "outputs": [
    {
     "data": {
      "text/plain": [
       "2928.375"
      ]
     },
     "execution_count": 5,
     "metadata": {},
     "output_type": "execute_result"
    }
   ],
   "source": [
    "(68.5/2)*85.5"
   ]
  },
  {
   "cell_type": "code",
   "execution_count": null,
   "id": "12574ed5",
   "metadata": {},
   "outputs": [],
   "source": []
  }
 ],
 "metadata": {
  "kernelspec": {
   "display_name": "venv_local",
   "language": "python",
   "name": "venv_local"
  },
  "language_info": {
   "codemirror_mode": {
    "name": "ipython",
    "version": 3
   },
   "file_extension": ".py",
   "mimetype": "text/x-python",
   "name": "python",
   "nbconvert_exporter": "python",
   "pygments_lexer": "ipython3",
   "version": "3.10.2"
  }
 },
 "nbformat": 4,
 "nbformat_minor": 5
}
